{
  "nbformat": 4,
  "nbformat_minor": 0,
  "metadata": {
    "colab": {
      "provenance": [],
      "gpuType": "V28",
      "authorship_tag": "ABX9TyMCfl7D1LzSVDAzh16aBakA",
      "include_colab_link": true
    },
    "kernelspec": {
      "name": "python3",
      "display_name": "Python 3"
    },
    "language_info": {
      "name": "python"
    },
    "accelerator": "TPU"
  },
  "cells": [
    {
      "cell_type": "markdown",
      "metadata": {
        "id": "view-in-github",
        "colab_type": "text"
      },
      "source": [
        "<a href=\"https://colab.research.google.com/github/vikram-godara/python_class_collab/blob/main/Unit1.ipynb\" target=\"_parent\"><img src=\"https://colab.research.google.com/assets/colab-badge.svg\" alt=\"Open In Colab\"/></a>"
      ]
    },
    {
      "cell_type": "markdown",
      "source": [
        "#declartion of variable\n"
      ],
      "metadata": {
        "id": "ycSICCL2XOKi"
      }
    },
    {
      "cell_type": "code",
      "source": [
        "a=10\n",
        "print(\"value of a is\",a)"
      ],
      "metadata": {
        "colab": {
          "base_uri": "https://localhost:8080/"
        },
        "id": "FhyC3peEVaIi",
        "outputId": "f5f154b3-0efd-40ee-fd55-7251808d8bf5"
      },
      "execution_count": null,
      "outputs": [
        {
          "output_type": "stream",
          "name": "stdout",
          "text": [
            "value of a is 10\n"
          ]
        }
      ]
    },
    {
      "cell_type": "markdown",
      "source": [
        "1. multiple assignment in variable\n"
      ],
      "metadata": {
        "id": "X3-vGiTkXtGf"
      }
    },
    {
      "cell_type": "code",
      "source": [
        "a,b = 10,20\n",
        "print(a,b)"
      ],
      "metadata": {
        "colab": {
          "base_uri": "https://localhost:8080/"
        },
        "id": "-Ri2kPXhX-Ve",
        "outputId": "04e1f3c8-87f5-4466-cb32-de078e7023ce"
      },
      "execution_count": null,
      "outputs": [
        {
          "output_type": "stream",
          "name": "stdout",
          "text": [
            "10 20\n"
          ]
        }
      ]
    },
    {
      "cell_type": "markdown",
      "source": [
        "multiple assignment with same value"
      ],
      "metadata": {
        "id": "IJSg7RALYY3a"
      }
    },
    {
      "cell_type": "code",
      "source": [
        "a=b=c=100\n",
        "print(a,b,c)"
      ],
      "metadata": {
        "colab": {
          "base_uri": "https://localhost:8080/"
        },
        "id": "bJgUHXCiYdUF",
        "outputId": "701831a6-f5da-4744-822a-23202ed54f75"
      },
      "execution_count": null,
      "outputs": [
        {
          "output_type": "stream",
          "name": "stdout",
          "text": [
            "100 100 100\n"
          ]
        }
      ]
    },
    {
      "cell_type": "markdown",
      "source": [
        "Rules for nameing variable\n",
        "\n",
        "1.   variable names can only contain letters digit and underscore(-)\n",
        "2.   variable name canot be  startwith a digit\n",
        "3.   variable name are cnase senstive\n",
        "4.   avoid using python keywords using if else,for,class,while\n",
        "\n",
        "\n"
      ],
      "metadata": {
        "id": "nf0tqanjYr69"
      }
    },
    {
      "cell_type": "code",
      "source": [
        "a=10\n",
        "classs =10 #not use class variable\n",
        "user_name = \"vikram\"\n",
        "# 1_name= \"error\"\n",
        "print (a,classs,user_name)\n",
        "#print(1_name) # not use use to print"
      ],
      "metadata": {
        "colab": {
          "base_uri": "https://localhost:8080/"
        },
        "id": "LswNFqgXZh_8",
        "outputId": "c5675a58-b2aa-4096-90ae-082944cd090a"
      },
      "execution_count": null,
      "outputs": [
        {
          "output_type": "stream",
          "name": "stdout",
          "text": [
            "10 10 vikram\n"
          ]
        }
      ]
    },
    {
      "cell_type": "markdown",
      "source": [
        "Type casting\n",
        "\n",
        "\n",
        "\n"
      ],
      "metadata": {
        "id": "DfM_jLIVklDG"
      }
    },
    {
      "cell_type": "markdown",
      "source": [
        "1.hulk sternth level is recorded as s string input 1000 convert into an integer and increase it by 200"
      ],
      "metadata": {
        "id": "BY_n9o7_mdny"
      }
    },
    {
      "cell_type": "code",
      "source": [
        "hulk_Score = \"1000\"\n",
        "hilk_int_s = int(hulk_Score)\n",
        "print(hilk_int_s)\n",
        "print(hilk_int_s+200)\n"
      ],
      "metadata": {
        "colab": {
          "base_uri": "https://localhost:8080/"
        },
        "id": "3Ez2xN2HmzTD",
        "outputId": "e1e95313-a799-486c-8e1a-5a1b55cbc883"
      },
      "execution_count": null,
      "outputs": [
        {
          "output_type": "stream",
          "name": "stdout",
          "text": [
            "1000\n",
            "1200\n"
          ]
        }
      ]
    },
    {
      "cell_type": "markdown",
      "source": [
        "thor's hammer mass is 5000  in int ,but you need to claculate the gartitationl force ,which require it as a float"
      ],
      "metadata": {
        "id": "1KiaDVsDntyk"
      }
    },
    {
      "cell_type": "markdown",
      "source": [
        "loki gets input in seconds (as as tring ) 3600 and convert it into an integer and then to hours and show final result as a float"
      ],
      "metadata": {
        "id": "8kX5-fk7n5K4"
      }
    },
    {
      "cell_type": "code",
      "source": [
        "s= \"3600\"\n",
        "h =int(s)\n",
        "h= h/3600\n",
        "result = float(h)\n",
        "print(result)"
      ],
      "metadata": {
        "colab": {
          "base_uri": "https://localhost:8080/"
        },
        "id": "ZfkOnbORokXf",
        "outputId": "ba23f0ca-9eb9-4740-c135-14e63852a1e7"
      },
      "execution_count": null,
      "outputs": [
        {
          "output_type": "stream",
          "name": "stdout",
          "text": [
            "1.0\n"
          ]
        }
      ]
    },
    {
      "cell_type": "markdown",
      "source": [
        "Iron man recorded 7 hits out of 10 slots (bot int) .convet in into float and calculate accuracy percentage"
      ],
      "metadata": {
        "id": "wxRGXJqWpCku"
      }
    },
    {
      "cell_type": "code",
      "metadata": {
        "id": "781ba564"
      },
      "source": [
        "hits = 7\n",
        "slots = 10\n",
        "\n",
        "accuracy = float(hits) / float(slots) * 100\n",
        "\n",
        "print(f\"Iron Man's accuracy: {accuracy:.2f}%\")"
      ],
      "execution_count": null,
      "outputs": []
    },
    {
      "cell_type": "markdown",
      "source": [
        "# String Datatype\n"
      ],
      "metadata": {
        "id": "JNKVqzDUZXGd"
      }
    },
    {
      "cell_type": "markdown",
      "source": [
        "1. Array of bytes representing univode characters\n",
        "2. no seperate  character data type ; a character is a string of length one.\n",
        "3.  string can be created using ' ', \" \",or \"\"\" \"\"\".\n",
        "4. Access individual character using indexing starting at 0.\n",
        "5. strings are immutable.\n",
        "6. str()."
      ],
      "metadata": {
        "id": "zQNr6I3VaHAn"
      }
    },
    {
      "cell_type": "code",
      "source": [
        "s1 = \"this is also a string\"\n",
        "print(s1)\n",
        "len(s1)"
      ],
      "metadata": {
        "colab": {
          "base_uri": "https://localhost:8080/"
        },
        "id": "yGq-uLUTbEd0",
        "outputId": "a902ce36-4726-44ae-e1b9-23c7acfbf016"
      },
      "execution_count": null,
      "outputs": [
        {
          "output_type": "stream",
          "name": "stdout",
          "text": [
            "this is also a string\n"
          ]
        },
        {
          "output_type": "execute_result",
          "data": {
            "text/plain": [
              "21"
            ]
          },
          "metadata": {},
          "execution_count": 6
        }
      ]
    },
    {
      "cell_type": "code",
      "source": [
        "s2 = \"this \"+\"is \"+\"also \"+\"a \" +\"string\"\n",
        "print(s2)\n",
        "len(s2)"
      ],
      "metadata": {
        "colab": {
          "base_uri": "https://localhost:8080/"
        },
        "id": "PZFMaMIQbNVZ",
        "outputId": "088d33c2-d209-4b7e-cab4-645dc8f6bb92"
      },
      "execution_count": null,
      "outputs": [
        {
          "output_type": "stream",
          "name": "stdout",
          "text": [
            "this is also a string\n"
          ]
        },
        {
          "output_type": "execute_result",
          "data": {
            "text/plain": [
              "21"
            ]
          },
          "metadata": {},
          "execution_count": 7
        }
      ]
    },
    {
      "cell_type": "code",
      "source": [
        "s3 = \"This is  a string  \\\n",
        "written across multiple lines\"\n",
        "print(s3)"
      ],
      "metadata": {
        "colab": {
          "base_uri": "https://localhost:8080/"
        },
        "id": "atA5lssJbaCm",
        "outputId": "9ea0509f-6d24-47de-f196-ec43b00c7189"
      },
      "execution_count": null,
      "outputs": [
        {
          "output_type": "stream",
          "name": "stdout",
          "text": [
            "This is  a string  written across multiple lines\n"
          ]
        }
      ]
    },
    {
      "cell_type": "code",
      "source": [
        "#multiple string with an integer to get a repative effect\n",
        "Iron_man = \"Samsh.it\\n\"\n",
        "print(Iron_man*10)"
      ],
      "metadata": {
        "colab": {
          "base_uri": "https://localhost:8080/"
        },
        "id": "go4wySPZcHD-",
        "outputId": "a2bb9901-3ea2-419b-df16-77cc01994a9e"
      },
      "execution_count": null,
      "outputs": [
        {
          "output_type": "stream",
          "name": "stdout",
          "text": [
            "Samsh_it\n",
            "Samsh_it\n",
            "Samsh_it\n",
            "Samsh_it\n",
            "Samsh_it\n",
            "Samsh_it\n",
            "Samsh_it\n",
            "Samsh_it\n",
            "Samsh_it\n",
            "Samsh_it\n",
            "\n"
          ]
        }
      ]
    },
    {
      "cell_type": "code",
      "source": [
        "Iron_man = \"Hello world # This is a comment \"\n",
        "print(Iron_man)\n"
      ],
      "metadata": {
        "colab": {
          "base_uri": "https://localhost:8080/"
        },
        "id": "VKREIDyndHPs",
        "outputId": "52c80064-9e68-4dd5-8020-2852ac6c96e5"
      },
      "execution_count": null,
      "outputs": [
        {
          "output_type": "stream",
          "name": "stdout",
          "text": [
            "Hello world # This is a comment \n"
          ]
        }
      ]
    },
    {
      "cell_type": "code",
      "source": [
        "Iron_man = \"Hello\"+'world'+\"\"\" Hi Vikram\"\"\"\n",
        "print(Iron_man)"
      ],
      "metadata": {
        "colab": {
          "base_uri": "https://localhost:8080/"
        },
        "id": "m9A2XWVWdWbO",
        "outputId": "b82390be-0ca3-46cf-bdae-41d011785af8"
      },
      "execution_count": null,
      "outputs": [
        {
          "output_type": "stream",
          "name": "stdout",
          "text": [
            "Helloworld Hi Vikram\n"
          ]
        }
      ]
    },
    {
      "cell_type": "code",
      "source": [
        "# index 0 is same as -0\n",
        "Avenger = \"IRONMAN\"\n",
        "length = len(Avenger)\n",
        "frist_ch=Avenger[0]\n",
        "print(frist_ch)"
      ],
      "metadata": {
        "colab": {
          "base_uri": "https://localhost:8080/"
        },
        "id": "A14EZBWpd6iR",
        "outputId": "b196ca8e-770e-4fee-c1e6-35501594b243"
      },
      "execution_count": null,
      "outputs": [
        {
          "output_type": "stream",
          "name": "stdout",
          "text": [
            "I\n"
          ]
        }
      ]
    },
    {
      "cell_type": "code",
      "source": [
        "#negative index\n",
        "last_ch = Avenger[-1]\n",
        "print(last_ch)"
      ],
      "metadata": {
        "colab": {
          "base_uri": "https://localhost:8080/"
        },
        "id": "QV4PBB5Bd_Wn",
        "outputId": "cdba8b2e-cbda-4811-8b15-cec8e61875b5"
      },
      "execution_count": null,
      "outputs": [
        {
          "output_type": "stream",
          "name": "stdout",
          "text": [
            "N\n"
          ]
        }
      ]
    },
    {
      "cell_type": "code",
      "source": [
        "#slicing\n",
        "\n",
        "slicing = Avenger[1:5]\n",
        "print(slicing)"
      ],
      "metadata": {
        "colab": {
          "base_uri": "https://localhost:8080/"
        },
        "id": "qw1zNc0ve8mo",
        "outputId": "ce5d03c7-7e8b-4aa5-b23f-68a378c84288"
      },
      "execution_count": null,
      "outputs": [
        {
          "output_type": "stream",
          "name": "stdout",
          "text": [
            "RONM\n"
          ]
        }
      ]
    },
    {
      "cell_type": "code",
      "source": [
        "slicing =Avenger[1:4:2]\n",
        "print(slicing)"
      ],
      "metadata": {
        "colab": {
          "base_uri": "https://localhost:8080/"
        },
        "id": "-Nld3PpHjRGE",
        "outputId": "954f1bf6-d048-4ea4-b21f-b4b97987e8e3"
      },
      "execution_count": null,
      "outputs": [
        {
          "output_type": "stream",
          "name": "stdout",
          "text": [
            "RN\n"
          ]
        }
      ]
    },
    {
      "cell_type": "code",
      "source": [
        "slicing =Avenger[::-1]\n",
        "print(slicing)"
      ],
      "metadata": {
        "colab": {
          "base_uri": "https://localhost:8080/"
        },
        "id": "jOkGTu1aj-9J",
        "outputId": "44608817-2f4a-4ebc-f6b0-de100fef8146"
      },
      "execution_count": null,
      "outputs": [
        {
          "output_type": "stream",
          "name": "stdout",
          "text": [
            "NAMNORI\n"
          ]
        }
      ]
    },
    {
      "cell_type": "code",
      "source": [
        "slicing =Avenger[2:5:-2]\n",
        "print(slicing)\n",
        "# not output ,its blank"
      ],
      "metadata": {
        "colab": {
          "base_uri": "https://localhost:8080/"
        },
        "id": "JD4YAi1JkU_A",
        "outputId": "1eea125f-81c1-4413-e3c3-90a2804c17c3"
      },
      "execution_count": null,
      "outputs": [
        {
          "output_type": "stream",
          "name": "stdout",
          "text": [
            "\n"
          ]
        }
      ]
    },
    {
      "cell_type": "code",
      "source": [
        "Avenger[0]=\"B\"\n",
        "print(Avenger)"
      ],
      "metadata": {
        "colab": {
          "base_uri": "https://localhost:8080/",
          "height": 165
        },
        "id": "UGFhTye-lX_P",
        "outputId": "3d4251e8-3d2f-4ea0-d4a4-e07df01ebff3"
      },
      "execution_count": null,
      "outputs": [
        {
          "output_type": "error",
          "ename": "TypeError",
          "evalue": "'str' object does not support item assignment",
          "traceback": [
            "\u001b[0;31m---------------------------------------------------------------------------\u001b[0m",
            "\u001b[0;31mTypeError\u001b[0m                                 Traceback (most recent call last)",
            "\u001b[0;32m/tmp/ipython-input-678456321.py\u001b[0m in \u001b[0;36m<cell line: 0>\u001b[0;34m()\u001b[0m\n\u001b[0;32m----> 1\u001b[0;31m \u001b[0mAvenger\u001b[0m\u001b[0;34m[\u001b[0m\u001b[0;36m0\u001b[0m\u001b[0;34m]\u001b[0m\u001b[0;34m=\u001b[0m\u001b[0;34m\"B\"\u001b[0m\u001b[0;34m\u001b[0m\u001b[0;34m\u001b[0m\u001b[0m\n\u001b[0m\u001b[1;32m      2\u001b[0m \u001b[0mprint\u001b[0m\u001b[0;34m(\u001b[0m\u001b[0mAvenger\u001b[0m\u001b[0;34m)\u001b[0m\u001b[0;34m\u001b[0m\u001b[0;34m\u001b[0m\u001b[0m\n",
            "\u001b[0;31mTypeError\u001b[0m: 'str' object does not support item assignment"
          ]
        }
      ]
    },
    {
      "cell_type": "code",
      "source": [
        "for ch in Avenger:\n",
        "  print(ch,end=\"*\")"
      ],
      "metadata": {
        "colab": {
          "base_uri": "https://localhost:8080/"
        },
        "id": "9OsDsU-Xlu2G",
        "outputId": "13178bc0-a554-47fc-96ba-0812b818ac98"
      },
      "execution_count": null,
      "outputs": [
        {
          "output_type": "stream",
          "name": "stdout",
          "text": [
            "I*R*O*N*M*A*N*"
          ]
        }
      ]
    },
    {
      "cell_type": "code",
      "source": [
        "for ch in Avenger:\n",
        "  print(ch)"
      ],
      "metadata": {
        "colab": {
          "base_uri": "https://localhost:8080/"
        },
        "id": "zqwyueJPl65-",
        "outputId": "3a4ce546-9844-4993-b974-92cc7e47e3aa"
      },
      "execution_count": null,
      "outputs": [
        {
          "output_type": "stream",
          "name": "stdout",
          "text": [
            "I\n",
            "R\n",
            "O\n",
            "N\n",
            "M\n",
            "A\n",
            "N\n"
          ]
        }
      ]
    },
    {
      "cell_type": "code",
      "source": [
        "for i in range(len(Avenger)):\n",
        "    print(i,Avenger[i])"
      ],
      "metadata": {
        "colab": {
          "base_uri": "https://localhost:8080/"
        },
        "id": "3eyI6a7LmfjS",
        "outputId": "6100f4d0-e0ba-46bf-d7c2-875f5716900a"
      },
      "execution_count": null,
      "outputs": [
        {
          "output_type": "stream",
          "name": "stdout",
          "text": [
            "0 I\n",
            "1 R\n",
            "2 O\n",
            "3 N\n",
            "4 M\n",
            "5 A\n",
            "6 N\n"
          ]
        }
      ]
    },
    {
      "cell_type": "code",
      "source": [
        "\n",
        "length = len(Avenger)\n",
        "\n",
        "for i in range(Avenger):\n",
        "  print(length-i,Avenger[length-i])"
      ],
      "metadata": {
        "colab": {
          "base_uri": "https://localhost:8080/",
          "height": 201
        },
        "id": "92qOpsbtm8rh",
        "outputId": "cc195c53-b0ab-4f3a-b741-8e3440eb9dfb"
      },
      "execution_count": null,
      "outputs": [
        {
          "output_type": "error",
          "ename": "TypeError",
          "evalue": "'str' object cannot be interpreted as an integer",
          "traceback": [
            "\u001b[0;31m---------------------------------------------------------------------------\u001b[0m",
            "\u001b[0;31mTypeError\u001b[0m                                 Traceback (most recent call last)",
            "\u001b[0;32m/tmp/ipython-input-4058913403.py\u001b[0m in \u001b[0;36m<cell line: 0>\u001b[0;34m()\u001b[0m\n\u001b[1;32m      1\u001b[0m \u001b[0mlength\u001b[0m \u001b[0;34m=\u001b[0m \u001b[0mlen\u001b[0m\u001b[0;34m(\u001b[0m\u001b[0mAvenger\u001b[0m\u001b[0;34m)\u001b[0m\u001b[0;34m\u001b[0m\u001b[0;34m\u001b[0m\u001b[0m\n\u001b[1;32m      2\u001b[0m \u001b[0;34m\u001b[0m\u001b[0m\n\u001b[0;32m----> 3\u001b[0;31m \u001b[0;32mfor\u001b[0m \u001b[0mi\u001b[0m \u001b[0;32min\u001b[0m \u001b[0mrange\u001b[0m\u001b[0;34m(\u001b[0m\u001b[0mAvenger\u001b[0m\u001b[0;34m)\u001b[0m\u001b[0;34m:\u001b[0m\u001b[0;34m\u001b[0m\u001b[0;34m\u001b[0m\u001b[0m\n\u001b[0m\u001b[1;32m      4\u001b[0m   \u001b[0mprint\u001b[0m\u001b[0;34m(\u001b[0m\u001b[0mlength\u001b[0m\u001b[0;34m-\u001b[0m\u001b[0mi\u001b[0m\u001b[0;34m,\u001b[0m\u001b[0mAvenger\u001b[0m\u001b[0;34m[\u001b[0m\u001b[0mlength\u001b[0m\u001b[0;34m-\u001b[0m\u001b[0mi\u001b[0m\u001b[0;34m]\u001b[0m\u001b[0;34m)\u001b[0m\u001b[0;34m\u001b[0m\u001b[0;34m\u001b[0m\u001b[0m\n",
            "\u001b[0;31mTypeError\u001b[0m: 'str' object cannot be interpreted as an integer"
          ]
        }
      ]
    },
    {
      "cell_type": "code",
      "metadata": {
        "colab": {
          "base_uri": "https://localhost:8080/"
        },
        "id": "5d8da77b",
        "outputId": "03975985-1c45-4efc-ca92-31242c6cfb08"
      },
      "source": [
        "for index, char in enumerate(reversed(Avenger)):\n",
        "    print(len(Avenger) - 1 - index, char)"
      ],
      "execution_count": null,
      "outputs": [
        {
          "output_type": "stream",
          "name": "stdout",
          "text": [
            "6 N\n",
            "5 A\n",
            "4 M\n",
            "3 N\n",
            "2 O\n",
            "1 R\n",
            "0 I\n"
          ]
        }
      ]
    },
    {
      "cell_type": "code",
      "source": [
        "#to check a string palindrome or not\n",
        "word =\"abaaba\"\n",
        "palindrome=word[::-1]\n",
        "if word==palindrome:\n",
        "  print(palindrome)\n",
        "else:\n",
        "  print(\"not a palindrome\")"
      ],
      "metadata": {
        "colab": {
          "base_uri": "https://localhost:8080/"
        },
        "id": "4hS6u3_ZoZoe",
        "outputId": "40227f94-bd0e-44be-b1d8-e33eabd2a965"
      },
      "execution_count": null,
      "outputs": [
        {
          "output_type": "stream",
          "name": "stdout",
          "text": [
            "abaaba\n"
          ]
        }
      ]
    },
    {
      "cell_type": "code",
      "metadata": {
        "colab": {
          "base_uri": "https://localhost:8080/"
        },
        "id": "706e8018",
        "outputId": "249dfdef-4051-4fdf-cda4-768630eaa364"
      },
      "source": [
        "word = \"racecar\"\n",
        "if word == word[::-1]:\n",
        "  print(f\"'{word}' is a palindrome.\")\n",
        "else:\n",
        "  print(f\"'{word}' is not a palindrome.\")\n",
        "\n",
        "word = \"python\"\n",
        "if word == word[::-1]:\n",
        "  print(f\"'{word}' is a palindrome.\")\n",
        "else:\n",
        "  print(f\"'{word}' is not a palindrome.\")"
      ],
      "execution_count": null,
      "outputs": [
        {
          "output_type": "stream",
          "name": "stdout",
          "text": [
            "'racecar' is a palindrome.\n",
            "'python' is not a palindrome.\n"
          ]
        }
      ]
    },
    {
      "cell_type": "markdown",
      "source": [
        "ASCII value  7 bits  0-127\n",
        "A-65 -- Z-90\n",
        "\n",
        "a-97 --z-122\n",
        "\n",
        "o-null #-35\n",
        "\n"
      ],
      "metadata": {
        "id": "L0tOa0dS7bFx"
      }
    },
    {
      "cell_type": "markdown",
      "source": [
        "In early 90's a standard was publiced called american standard code for information interchange.\n",
        "\n",
        "its specify the mapping of binary value of characters ,it uses seven bit to represent the character (0-127) range a(97) to z(122)\n",
        "\n",
        "\n",
        "the ascii character set is limited ist that it can't handle character from another languages,\n",
        "therefore , unicode standard are purposed python3 uses unicode bt default (UTF-8) it define more than one lakh character the prefix used to print the character in\n",
        "\n",
        "> Add blockquote\n",
        "\n"
      ],
      "metadata": {
        "id": "Zgcqryxz8-9q"
      }
    },
    {
      "cell_type": "code",
      "source": [
        "space =\"\\u03C0\"\n",
        "print(space)"
      ],
      "metadata": {
        "colab": {
          "base_uri": "https://localhost:8080/"
        },
        "id": "2RX5z4n77_2W",
        "outputId": "0d4eb7ae-bba2-4f5b-86ce-05f90eb7e72e"
      },
      "execution_count": null,
      "outputs": [
        {
          "output_type": "stream",
          "name": "stdout",
          "text": [
            "π\n"
          ]
        }
      ]
    },
    {
      "cell_type": "markdown",
      "source": [
        "\\t is used for horizontal tab (9)\n",
        "\\a is alert ,beep(7)\n",
        "\\b backspace(8)\n",
        "\\n newline (10)\n",
        "\\v vertical tab (11)\n",
        "\\f newpage(12)\n",
        "\\r carriage return (13)\n",
        "\\0 is null or string terminator (0)"
      ],
      "metadata": {
        "id": "k9pmLy6M-h5f"
      }
    },
    {
      "cell_type": "code",
      "source": [
        "print(\"Iron man\\nCaption America\")"
      ],
      "metadata": {
        "colab": {
          "base_uri": "https://localhost:8080/"
        },
        "id": "PbogiD7B_buN",
        "outputId": "b0929634-cafe-4c34-a896-e1bf0c7e4362"
      },
      "execution_count": null,
      "outputs": [
        {
          "output_type": "stream",
          "name": "stdout",
          "text": [
            "Iron man\n",
            "Caption America\n"
          ]
        }
      ]
    },
    {
      "cell_type": "code",
      "source": [
        "print(\"Hulk\\tThor\")"
      ],
      "metadata": {
        "colab": {
          "base_uri": "https://localhost:8080/"
        },
        "id": "yCFO9kj-_n9M",
        "outputId": "8536ff75-aac3-4b44-ecee-f9de69d8be57"
      },
      "execution_count": null,
      "outputs": [
        {
          "output_type": "stream",
          "name": "stdout",
          "text": [
            "Hulk\tThor\n"
          ]
        }
      ]
    },
    {
      "cell_type": "code",
      "source": [
        "print(\"Black window\\'s Misson\")"
      ],
      "metadata": {
        "colab": {
          "base_uri": "https://localhost:8080/"
        },
        "id": "Xg6Pk6GC_3og",
        "outputId": "4d542366-8ed7-44e5-d20a-9b46e34081f9"
      },
      "execution_count": null,
      "outputs": [
        {
          "output_type": "stream",
          "name": "stdout",
          "text": [
            "Black window's Misson\n"
          ]
        }
      ]
    },
    {
      "cell_type": "code",
      "source": [
        "print(\"C:\\\\vikram\")\n",
        "print(\"C:\\vikram\")"
      ],
      "metadata": {
        "colab": {
          "base_uri": "https://localhost:8080/"
        },
        "id": "1xxhNYk8AOZ8",
        "outputId": "06b4d33e-528c-449f-e41c-37617bd56378"
      },
      "execution_count": null,
      "outputs": [
        {
          "output_type": "stream",
          "name": "stdout",
          "text": [
            "C:\\vikram\n",
            "C:\u000bikram\n"
          ]
        }
      ]
    },
    {
      "cell_type": "code",
      "source": [
        "print(\"Smash\\a\")\n",
        "#\\a its terminal  depen and supported terminal sounds BaseException"
      ],
      "metadata": {
        "colab": {
          "base_uri": "https://localhost:8080/"
        },
        "id": "-2gp1FpzAqBz",
        "outputId": "ef6a2cd6-a481-4d56-afbe-73d60a5cf1d4"
      },
      "execution_count": null,
      "outputs": [
        {
          "output_type": "stream",
          "name": "stdout",
          "text": [
            "Smash\u0007\n"
          ]
        }
      ]
    },
    {
      "cell_type": "code",
      "source": [
        "print(\"vikram\\b\")\n",
        "# its backspace m from vikram\n",
        "print(\"Neeraj\\f\")\n",
        "print(\"vision\\r\")"
      ],
      "metadata": {
        "colab": {
          "base_uri": "https://localhost:8080/"
        },
        "id": "3Z6XEkj6BkEJ",
        "outputId": "f910aa72-5eb2-4872-cc3e-79212f77f508"
      },
      "execution_count": null,
      "outputs": [
        {
          "output_type": "stream",
          "name": "stdout",
          "text": [
            "vikram\b\n",
            "Neeraj\f\n",
            "vision\r\n"
          ]
        }
      ]
    },
    {
      "cell_type": "code",
      "source": [
        "#.lower() ,.upper() is used to lower or upperor captiallize the ch in given string these method for normaliztion to ensure the consistant case for embedding in NLP\n",
        "x=\"VIKRAM\"\n",
        "y=\"vikram\"\n",
        "z=\"VnBNsaD\"\n",
        "print(x.lower())\n",
        "print(y.upper())\n",
        "print(z.lower())\n",
        "print(z.upper())\n",
        "print(z.capitalize())\n",
        "print(z.title())\n",
        "\n"
      ],
      "metadata": {
        "colab": {
          "base_uri": "https://localhost:8080/"
        },
        "id": "n4WYSukYBuiG",
        "outputId": "e7fb8824-bcbd-4d39-8af9-64144f8f88b3"
      },
      "execution_count": null,
      "outputs": [
        {
          "output_type": "stream",
          "name": "stdout",
          "text": [
            "vikram\n",
            "VIKRAM\n",
            "vnbnsad\n",
            "VNBNSAD\n",
            "Vnbnsad\n",
            "Vnbnsad\n"
          ]
        }
      ]
    },
    {
      "cell_type": "markdown",
      "source": [
        "#Strip method"
      ],
      "metadata": {
        "id": "ZGfgPKgDFnkE"
      }
    },
    {
      "cell_type": "markdown",
      "source": [
        "strip method its design to remove leading,white spaces char or specfic char from string it does not remove from middile of string.\n",
        "\n",
        "its alternative methond for middle is alternative( replace two character )\n",
        "\n",
        "Application\n",
        "1.cleaning the Data.\n",
        "2.replace null value with any characters\n",
        "3. correcting the text(ex .tyops/Slang)"
      ],
      "metadata": {
        "id": "9UpYFxSlDoup"
      }
    },
    {
      "cell_type": "code",
      "source": [
        "#strip method\n",
        "k=\"@Vikram\"\n",
        "print(k.strip(\"@\")) #its deletd the character from string  (if start in front or end palce) its work when pass the parametr in strip(character) to remove anything like @,space\n",
        "\n",
        "k=\"Vik ram\"\n",
        "print(k.strip(\"@\"))\n",
        "print(k.replace(\" \", \"\")) #its delete from middle"
      ],
      "metadata": {
        "colab": {
          "base_uri": "https://localhost:8080/"
        },
        "id": "x7XWCObjDjjN",
        "outputId": "afd44bc6-dd5a-49d1-a52d-5f35fa215d5b"
      },
      "execution_count": null,
      "outputs": [
        {
          "output_type": "stream",
          "name": "stdout",
          "text": [
            "Vikram\n",
            "Vik ram\n",
            "Vikram\n"
          ]
        }
      ]
    },
    {
      "cell_type": "markdown",
      "source": [
        "#split methos"
      ],
      "metadata": {
        "id": "7bXhVuGbGzFo"
      }
    },
    {
      "cell_type": "code",
      "source": [
        "x=\"This movie is amazing . I Like This Movie\"\n",
        "print(x.split()) # use to make tokeniztion that method involve split into list of words and as a space as a delimeterr .this delimeter automatically handles multiple space between words.\n",
        "tokons=x.split()\n",
        "print(\" \".join(tokons))#join mehod is jion the word back  together without any spaces."
      ],
      "metadata": {
        "colab": {
          "base_uri": "https://localhost:8080/"
        },
        "id": "4qvA5cQjGwRv",
        "outputId": "01af5e52-c3ed-4a4e-ae45-d67aa6f15dda"
      },
      "execution_count": null,
      "outputs": [
        {
          "output_type": "stream",
          "name": "stdout",
          "text": [
            "['This', 'movie', 'is', 'amazing', '.', 'I', 'Like', 'This', 'Movie']\n",
            "This movie is amazing . I Like This Movie\n"
          ]
        }
      ]
    },
    {
      "cell_type": "code",
      "source": [
        "txt = \"This is a python class\"\n",
        "print(txt.find(\"python\")) #its count first char only\n",
        "txt = \"This is a python python class\"\n",
        "print(txt.find(\"python\"))\n",
        "print(txt.find(\"python\",9,25))\n",
        "print(txt.index(\"python\"))\n",
        "#print(txt.index(\"python\"1)) its show error show\n",
        "\n",
        "print(txt.count(\"python\"))\n",
        "txt = \"This is a python class\"\n",
        "print(txt.find(\"python1\")) # return -1 ,\n"
      ],
      "metadata": {
        "colab": {
          "base_uri": "https://localhost:8080/"
        },
        "id": "vR9VZOPBarQd",
        "outputId": "e6252fb0-cd67-484a-e62d-49abd9d8d3d5"
      },
      "execution_count": null,
      "outputs": [
        {
          "output_type": "stream",
          "name": "stdout",
          "text": [
            "10\n",
            "10\n",
            "10\n",
            "10\n",
            "2\n",
            "-1\n"
          ]
        }
      ]
    },
    {
      "cell_type": "code",
      "source": [
        "x=\"5800\"\n",
        "print(x.isdigit())\n",
        "x=\"\\u00B2\"\n",
        "print(x)\n",
        "print(x.isdigit())\n"
      ],
      "metadata": {
        "colab": {
          "base_uri": "https://localhost:8080/"
        },
        "id": "Y9Y0R4z6cIob",
        "outputId": "d387259a-1b24-4630-8c02-9ad76c98e573"
      },
      "execution_count": null,
      "outputs": [
        {
          "output_type": "stream",
          "name": "stdout",
          "text": [
            "True\n",
            "²\n",
            "True\n"
          ]
        }
      ]
    },
    {
      "cell_type": "code",
      "source": [
        "txt = \"This is a python python class\"\n",
        "print(txt.startswith(\" is \",4))\n",
        "print(txt.startswith(\" is \",4,12))\n",
        "print(txt.endswith('class'))\n",
        "print(txt.endswith((\"class\",\"python\")))\n"
      ],
      "metadata": {
        "colab": {
          "base_uri": "https://localhost:8080/"
        },
        "id": "U_rFCAAEcuIq",
        "outputId": "8f837e5d-2450-4f9f-d9ca-0cb415f95ab0"
      },
      "execution_count": null,
      "outputs": [
        {
          "output_type": "stream",
          "name": "stdout",
          "text": [
            "True\n",
            "True\n",
            "True\n",
            "True\n"
          ]
        }
      ]
    },
    {
      "cell_type": "code",
      "source": [
        "Avenger=\"IRONMAN,THOR,HULX\"\n",
        "print(\"THOR\" in Avenger)\n",
        "\n",
        "print(\"VIKRAM\" not in Avenger)\n",
        "\n",
        "if \"THOR\" in Avenger:\n",
        "  print(\"thor is here\")\n",
        "\n",
        "if \"IRONMAN\""
      ],
      "metadata": {
        "colab": {
          "base_uri": "https://localhost:8080/"
        },
        "id": "AQpw-Az2eGBu",
        "outputId": "f2cabe8f-1b44-435d-d05b-69fe7830ca95"
      },
      "execution_count": null,
      "outputs": [
        {
          "output_type": "stream",
          "name": "stdout",
          "text": [
            "True\n",
            "True\n",
            "thor is here\n"
          ]
        }
      ]
    },
    {
      "cell_type": "markdown",
      "source": [
        "lOKI tried to trick Avengers check if loki is in it .\n",
        "if yes he is not thor real brother of thor"
      ],
      "metadata": {
        "id": "TPvMNGEXe3jK"
      }
    },
    {
      "cell_type": "code",
      "source": [
        "Avenger=\"IRONMAN,THOR,HULX\"\n",
        "if \"Loki\" in Avenger:\n",
        "  print(\"thor is here\")\n",
        "else:\n",
        "  print(\"thor is not here\")\n",
        "\n"
      ],
      "metadata": {
        "colab": {
          "base_uri": "https://localhost:8080/"
        },
        "id": "I4CIkHMBfQIb",
        "outputId": "9f2f704d-8f7e-471a-bebb-04a4187b69a5"
      },
      "execution_count": null,
      "outputs": [
        {
          "output_type": "stream",
          "name": "stdout",
          "text": [
            "thor is not here\n"
          ]
        }
      ]
    },
    {
      "cell_type": "markdown",
      "source": [
        "we define the uses of capitals in a world to be right .\n",
        "then one of the following case holds;\n",
        "1. all the letters in word are captial like USA.\n",
        "2. all the letters in word are not in captial like leetcode.\n",
        "3. only fist letter is captial like Google.\n",
        "\n",
        "give string word return true ,if uses of captial is in the right."
      ],
      "metadata": {
        "id": "soF3evJRfmCw"
      }
    },
    {
      "cell_type": "code",
      "source": [
        "string=\"USA\"\n",
        "upcase=string.upper()\n",
        "if string==upcase:\n",
        "  print(True)\n",
        "else:\n",
        "  print(False)\n",
        "\n",
        "\n",
        "string=\"leetcode\"\n",
        "lowcase=string.lower()\n",
        "if string==lowcase:\n",
        "  print(True)\n",
        "else:\n",
        "  print(False)\n",
        "string=\"Leetcode\"\n",
        "capcase=string.capitalize()\n",
        "if string==capcase:\n",
        "  print(True)\n",
        "else:\n",
        "  print(False)\n",
        "\n",
        "\n",
        "#better solution\n",
        "x=\"USER\"\n",
        "if x.upper() or x.lower() or x.capitalize():\n",
        "  print(True)\n",
        "else:\n",
        "  print(False)\n",
        "\n"
      ],
      "metadata": {
        "colab": {
          "base_uri": "https://localhost:8080/"
        },
        "id": "InpckbFhgbtw",
        "outputId": "4d845dd5-a3f2-46f2-e705-c34a794243c4"
      },
      "execution_count": null,
      "outputs": [
        {
          "output_type": "stream",
          "name": "stdout",
          "text": [
            "True\n",
            "True\n",
            "True\n",
            "True\n"
          ]
        }
      ]
    },
    {
      "cell_type": "markdown",
      "source": [
        "make a list of word \"how are you\""
      ],
      "metadata": {
        "id": "_AabuxeDg5hE"
      }
    },
    {
      "cell_type": "code",
      "source": [
        "word=[\"How\",\"are\",\"you\"]\n",
        "# print(word.strip(\" \")) is dorectly not access the List ,use for loop\n",
        "\n",
        "for i in word:\n",
        "  print(i.strip(\" \"))"
      ],
      "metadata": {
        "colab": {
          "base_uri": "https://localhost:8080/"
        },
        "id": "adQiJgNwjX33",
        "outputId": "13eef7f1-a46a-438c-9725-2743e2463e9a"
      },
      "execution_count": null,
      "outputs": [
        {
          "output_type": "stream",
          "name": "stdout",
          "text": [
            "How\n",
            "are\n",
            "you\n"
          ]
        }
      ]
    },
    {
      "cell_type": "markdown",
      "source": [
        "#Boolean\n"
      ],
      "metadata": {
        "id": "O3fIt_XQ_zUU"
      }
    },
    {
      "cell_type": "code",
      "source": [
        "print(type(True)) #T and F is captial\n",
        "print(type(False))\n"
      ],
      "metadata": {
        "colab": {
          "base_uri": "https://localhost:8080/"
        },
        "id": "xTmz4oAO_8tJ",
        "outputId": "f02c276e-649a-4ce9-d1a4-75109858f7c6"
      },
      "execution_count": null,
      "outputs": [
        {
          "output_type": "stream",
          "name": "stdout",
          "text": [
            "<class 'bool'>\n",
            "<class 'bool'>\n"
          ]
        }
      ]
    },
    {
      "cell_type": "code",
      "source": [
        "print( 10>9 and 10>8)\n",
        "print( 10>9 or  10>8)\n",
        "#print( 10>9 not 10>8) this is not applicable not is binary op.\n",
        "\n",
        "print( not 10>8)\n",
        "\n"
      ],
      "metadata": {
        "colab": {
          "base_uri": "https://localhost:8080/"
        },
        "id": "39vNPbCKBHfd",
        "outputId": "5cf83172-4544-4e12-ad36-508e90bdc57f"
      },
      "execution_count": null,
      "outputs": [
        {
          "output_type": "stream",
          "name": "stdout",
          "text": [
            "True\n",
            "True\n",
            "False\n"
          ]
        }
      ]
    },
    {
      "cell_type": "code",
      "source": [
        "print( bool([])) #non -\n",
        "print( bool(\" \"))\n",
        "\n"
      ],
      "metadata": {
        "colab": {
          "base_uri": "https://localhost:8080/"
        },
        "id": "kDrhKStKBw2d",
        "outputId": "04ffab2e-9509-4175-b865-7a45be704f8c"
      },
      "execution_count": null,
      "outputs": [
        {
          "output_type": "stream",
          "name": "stdout",
          "text": [
            "False\n",
            "True\n"
          ]
        }
      ]
    },
    {
      "cell_type": "code",
      "source": [
        "#all() and any()\n",
        "mark = [50,60]\n",
        "print(all (m>=40 for m in mark))#for all\n",
        "print(any (m>=90 for m in mark))# atleast any"
      ],
      "metadata": {
        "colab": {
          "base_uri": "https://localhost:8080/"
        },
        "id": "8eVx79fDCaYr",
        "outputId": "faf4c4e6-6209-4f3e-ba03-0988211be618"
      },
      "execution_count": null,
      "outputs": [
        {
          "output_type": "stream",
          "name": "stdout",
          "text": [
            "True\n",
            "False\n"
          ]
        }
      ]
    },
    {
      "cell_type": "code",
      "source": [
        "a,b = True,False;\n",
        "print(a^b);\n",
        "print(a^a);\n",
        "# swap using XOR gate\n",
        "a=10\n",
        "b=20\n",
        "print(a,b)\n",
        "\n",
        "a=a^b\n",
        "print(\"frist step\",a,b)\n",
        "b=a^b\n",
        "print(\"second step\",a,b)\n",
        "a=a^b\n",
        "print(\"third and final\",a,b)\n"
      ],
      "metadata": {
        "colab": {
          "base_uri": "https://localhost:8080/"
        },
        "id": "-_LSfU1LDd1i",
        "outputId": "9b9283e9-0a79-4f37-9535-c4ea360f84ad"
      },
      "execution_count": null,
      "outputs": [
        {
          "output_type": "stream",
          "name": "stdout",
          "text": [
            "True\n",
            "False\n",
            "10 20\n",
            "frist step 30 20\n",
            "second step 30 10\n",
            "third and final 20 10\n"
          ]
        }
      ]
    },
    {
      "cell_type": "code",
      "source": [
        "print(10>9>8)\n",
        "print(10<9>8)"
      ],
      "metadata": {
        "colab": {
          "base_uri": "https://localhost:8080/"
        },
        "id": "DrkTSEdJEFsO",
        "outputId": "bb17500a-de62-4500-b0ce-a65ad0538cba"
      },
      "execution_count": null,
      "outputs": [
        {
          "output_type": "stream",
          "name": "stdout",
          "text": [
            "True\n",
            "False\n"
          ]
        }
      ]
    },
    {
      "cell_type": "code",
      "source": [
        "n=21\n",
        "print((n%3==0)^(n%7==0))  # 1^1 =false"
      ],
      "metadata": {
        "colab": {
          "base_uri": "https://localhost:8080/"
        },
        "id": "XPar8SNxHcJ0",
        "outputId": "bd9c0f2d-2d10-4b9c-8321-2182edf3fb4b"
      },
      "execution_count": null,
      "outputs": [
        {
          "output_type": "stream",
          "name": "stdout",
          "text": [
            "False\n"
          ]
        }
      ]
    },
    {
      "cell_type": "markdown",
      "source": [
        "1. is check the identity whereas == check the equality od value (content) both a and b are lists with same elememt,1,2,so python prints true\n",
        "2. when you write a=[1,2] and b=[1,2] python create 2 diff. list object in memoery ,therefore output is false.\n",
        "3. if you use small integer or strings sometimes a is b can be true because of python interning  (optimisation for performance)\n",
        "4. in case of list dictonary sets python always creates a new object unless you explicitlt\n"
      ],
      "metadata": {
        "id": "ukdbFoOZLSb3"
      }
    },
    {
      "cell_type": "code",
      "source": [
        "a=[1,2]\n",
        "b=[1,2]\n",
        "print(a==b)\n",
        "print(a is b)\n",
        "# 1.is check the identity whereas == check the equality od value (content) both a and b are lists with same elememt,1,2,so python prints true\n",
        "# 2. when you write a=[1,2] and b=[1,2] python create 2 diff. list object in memoery ,therefore output is false\n",
        "a=100\n",
        "b=100\n",
        "print(a is b)\n",
        "s1,s2 = \"hello\",\"hello\"\n",
        "print(s1 is s2)\n",
        "\n",
        "# if you use small integer or strings sometimes a is b can be true because of python interning  (optimisation for performance)\n",
        "# in case of list dictonary sets python always creates a new object unless you explicitlt"
      ],
      "metadata": {
        "colab": {
          "base_uri": "https://localhost:8080/"
        },
        "id": "OZbK7h-nIylX",
        "outputId": "8c04bd76-9526-4c82-b57c-e01b16c9e5d0"
      },
      "execution_count": null,
      "outputs": [
        {
          "output_type": "stream",
          "name": "stdout",
          "text": [
            "True\n",
            "False\n",
            "True\n",
            "True\n"
          ]
        }
      ]
    },
    {
      "cell_type": "markdown",
      "source": [
        "is or equal ke que.\n",
        "que.1\n",
        "how can all() and any() make code shorter  compared to multiple conditions\n",
        "que.2\n",
        "write 5 boolean conditions using all or any from collage life.\n",
        "application of xor"
      ],
      "metadata": {
        "id": "jPnQjwqwKv8v"
      }
    },
    {
      "cell_type": "code",
      "source": [
        "a=10\n",
        "b=2\n",
        "print(a+b,a-b,a*b,a/b,a//b,a**b,a%b)\n",
        "a=-10\n",
        "print(a+b,a-b,a*b,a/b,a//b,a**b,a%b)\n",
        "#try this all\n",
        "print(-10//3)\n"
      ],
      "metadata": {
        "colab": {
          "base_uri": "https://localhost:8080/"
        },
        "id": "LUcooDQUp4bi",
        "outputId": "010ab329-5b81-4ee6-ef8a-d7607ed62ff7"
      },
      "execution_count": null,
      "outputs": [
        {
          "output_type": "stream",
          "name": "stdout",
          "text": [
            "12 8 20 5.0 5 100 0\n",
            "-8 -12 -20 -5.0 -5 100 0\n",
            "-4\n"
          ]
        }
      ]
    },
    {
      "cell_type": "markdown",
      "source": [
        "note: float division round down ,not towards zero,\n",
        "python always follow ,matematical float division ,not drunktion"
      ],
      "metadata": {
        "id": "3KNfBcYFp3zP"
      }
    },
    {
      "cell_type": "markdown",
      "metadata": {
        "id": "0054b89f"
      },
      "source": [
        "Note: Integer division (using `//`) in Python rounds down towards negative infinity, not towards zero. This is different from some other programming languages.\n",
        "\n",
        "For example:\n",
        "- `10 // 3` is `3` (rounds down)\n",
        "- `-10 // 3` is `-4` (rounds down to the next smaller integer)\n",
        "\n",
        "Python's float division (using `/`) follows standard mathematical division."
      ]
    },
    {
      "cell_type": "code",
      "source": [
        "a=10\n",
        "b=10\n",
        "# +=,-=,*=,/=,//=,%=,**=,&= , |=, ^=,>>=,<<= this have lowest precedence order\n",
        "#uses->\n",
        "# 1. code optimization ,2.inplace updation ,3.efficient code\n",
        "\n",
        "print()\n"
      ],
      "metadata": {
        "id": "53dD0xILrnEl"
      },
      "execution_count": null,
      "outputs": []
    },
    {
      "cell_type": "code",
      "source": [
        "x=5\n",
        "x*=2+3\n",
        "# x=x*(2+3)\n",
        "#ouput is 13 or 25 ? all\n",
        "print(x)\n"
      ],
      "metadata": {
        "colab": {
          "base_uri": "https://localhost:8080/"
        },
        "id": "6si-7P6wtQ0M",
        "outputId": "da574550-edfd-47c9-bcb1-f6e47d70a77a"
      },
      "execution_count": null,
      "outputs": [
        {
          "output_type": "stream",
          "name": "stdout",
          "text": [
            "25\n"
          ]
        }
      ]
    },
    {
      "cell_type": "code",
      "source": [
        "print(10==10.0)\n",
        "print(10==\"10\")\n",
        "print(3<4<5)\n",
        "print(True==1 and False ==0)\n",
        "#python inphasise the chain comparision\n",
        "#boolean are subclass of integer"
      ],
      "metadata": {
        "colab": {
          "base_uri": "https://localhost:8080/"
        },
        "id": "L_tsGaFUvkXA",
        "outputId": "e42df556-afb4-41a5-b4b5-14446914505f"
      },
      "execution_count": null,
      "outputs": [
        {
          "output_type": "stream",
          "name": "stdout",
          "text": [
            "True\n",
            "False\n",
            "True\n",
            "True\n"
          ]
        }
      ]
    },
    {
      "cell_type": "code",
      "source": [
        "print(True or False)\n",
        "print(0 or 5)\n",
        "print([] and \"HI\")\n",
        "\n",
        "print([] or \"HI\")\n"
      ],
      "metadata": {
        "colab": {
          "base_uri": "https://localhost:8080/"
        },
        "id": "l2cL_jP8vkNz",
        "outputId": "456a1324-9e31-44ad-ec28-baef5d735762"
      },
      "execution_count": null,
      "outputs": [
        {
          "output_type": "stream",
          "name": "stdout",
          "text": [
            "True\n",
            "5\n",
            "[]\n",
            "HI\n"
          ]
        }
      ]
    },
    {
      "cell_type": "markdown",
      "metadata": {
        "id": "86855ebd"
      },
      "source": [
        "In an `and` expression, the second operand is not evaluated if the first operand is false.\n",
        "\n",
        "`A and B is not evalute b if a is false`"
      ]
    },
    {
      "cell_type": "code",
      "source": [
        "# check identity not value\n",
        "a=[1,2,3]\n",
        "b=[1,2,3]\n",
        "print(a==b)\n",
        "print(a is b) # is check adddress ,so flase"
      ],
      "metadata": {
        "id": "DiAJRM_EyDJv"
      },
      "execution_count": null,
      "outputs": []
    },
    {
      "cell_type": "code",
      "source": [
        "x=256\n",
        "y=256\n",
        "print(x is y)\n",
        "x=257\n",
        "y=257\n",
        "print(x is y)  # -5 to 256  python give same address in memory allocation"
      ],
      "metadata": {
        "colab": {
          "base_uri": "https://localhost:8080/"
        },
        "id": "QbVCcT6oy3Rl",
        "outputId": "bb934f6a-67e5-4db2-dd34-d473ccc83462"
      },
      "execution_count": null,
      "outputs": [
        {
          "output_type": "stream",
          "name": "stdout",
          "text": [
            "True\n",
            "False\n"
          ]
        }
      ]
    },
    {
      "cell_type": "markdown",
      "source": [
        "#Membership Operator"
      ],
      "metadata": {
        "id": "Lzba-A88zYGi"
      }
    },
    {
      "cell_type": "code",
      "source": [
        "print(\"nana\" in \"banana\")\n",
        "l=[1,2,3]\n",
        "print(3 in l)"
      ],
      "metadata": {
        "colab": {
          "base_uri": "https://localhost:8080/"
        },
        "id": "vZHIcsKzzdhr",
        "outputId": "22c9b441-cbd4-4f92-debc-5beed09ec408"
      },
      "execution_count": null,
      "outputs": [
        {
          "output_type": "stream",
          "name": "stdout",
          "text": [
            "True\n",
            "True\n"
          ]
        }
      ]
    },
    {
      "cell_type": "markdown",
      "source": [
        "#Bit Wise OP."
      ],
      "metadata": {
        "id": "cjqGv-4iz9hY"
      }
    },
    {
      "cell_type": "code",
      "source": [
        "a=10\n",
        "print(~a) # ~ is a complemet in python\n",
        "print(5 or 3,5^3,5 and 3,7>>3,5<<1)"
      ],
      "metadata": {
        "colab": {
          "base_uri": "https://localhost:8080/"
        },
        "id": "6idoO-Xv0CSo",
        "outputId": "21eaa958-e185-4e27-e1c3-68c355d8b58a"
      },
      "execution_count": null,
      "outputs": [
        {
          "output_type": "stream",
          "name": "stdout",
          "text": [
            "-11\n",
            "5 6 3 0 10\n"
          ]
        }
      ]
    },
    {
      "cell_type": "code",
      "source": [
        "l=[2,7,11,15]\n",
        "print(9 in l)\n",
        "print( any(m==9 for m in l))#for all\n",
        "print( all(m==9 for m in l))#for all\n"
      ],
      "metadata": {
        "colab": {
          "base_uri": "https://localhost:8080/"
        },
        "id": "fn3tYBVe0pv2",
        "outputId": "de32b6b7-5c8d-46dd-a568-9d0fd644193c"
      },
      "execution_count": null,
      "outputs": [
        {
          "output_type": "stream",
          "name": "stdout",
          "text": [
            "False\n",
            "False\n",
            "False\n"
          ]
        }
      ]
    },
    {
      "cell_type": "code",
      "source": [
        "Avg=['Iron-man','hulk','thor']\n"
      ],
      "metadata": {
        "id": "jnUxH7IL2xK6"
      },
      "execution_count": null,
      "outputs": []
    },
    {
      "cell_type": "markdown",
      "source": [
        "#LIST\n"
      ],
      "metadata": {
        "id": "-GL8UEo03ubf"
      }
    },
    {
      "cell_type": "code",
      "source": [
        "\n",
        "infinity_stone=['space',\"time\",\"mind\",\"reality\",\"soul\",\"power\",\"power\"]\n",
        "print(infinity_stone[0])\n",
        "print(\"soul\" in infinity_stone)\n",
        "print(infinity_stone[-1])\n",
        "\n",
        "infinity_stone[0] = \"god\"\n",
        "print(infinity_stone[0])\n"
      ],
      "metadata": {
        "colab": {
          "base_uri": "https://localhost:8080/"
        },
        "id": "0z7L2fMp1sME",
        "outputId": "edfd73fa-9880-49c4-ffa2-8a655d9eb564"
      },
      "execution_count": null,
      "outputs": [
        {
          "output_type": "stream",
          "name": "stdout",
          "text": [
            "space\n",
            "True\n",
            "power\n",
            "god\n"
          ]
        }
      ]
    },
    {
      "cell_type": "code",
      "source": [
        "loki=[\"Loki odinson\",2020,True]\n",
        "print(loki[-1])\n",
        "print(type(loki[-1]))\n",
        "length=len(loki)\n",
        "print(length)"
      ],
      "metadata": {
        "colab": {
          "base_uri": "https://localhost:8080/"
        },
        "id": "ccUAoi4l4DUn",
        "outputId": "cf0d53d2-94d1-474a-ec6d-cfd4e09862ff"
      },
      "execution_count": null,
      "outputs": [
        {
          "output_type": "stream",
          "name": "stdout",
          "text": [
            "True\n",
            "<class 'bool'>\n",
            "3\n"
          ]
        }
      ]
    },
    {
      "cell_type": "code",
      "source": [
        "avg1=list((\"iron-man\",\"thor\",\"hulk\"))\n",
        "print(avg1)\n",
        "guad=list((\"star\",\"antman\",\"hank\"))\n"
      ],
      "metadata": {
        "colab": {
          "base_uri": "https://localhost:8080/"
        },
        "id": "6JHEkIFY5mPb",
        "outputId": "fa94e01d-7043-4849-d858-b5406b6abd20"
      },
      "execution_count": null,
      "outputs": [
        {
          "output_type": "stream",
          "name": "stdout",
          "text": [
            "['iron-man', 'thor', 'hulk']\n"
          ]
        }
      ]
    },
    {
      "cell_type": "code",
      "source": [
        "#append the list\n",
        "avg1=list((\"iron-man\",\"hulk\"))\n",
        "#avg1[0].append(\"thor\")   #'str' object has no attribute 'append'\n",
        "\n",
        "avg1.append(\"thor\")\n",
        "print(avg1)\n",
        "\n",
        "avg1.insert(0,\"Thor\")\n",
        "print(avg1)\n",
        "guad=list((\"star\",\"antman\",\"hank\"))\n",
        "\n",
        "#avg1.extend(guad)\n",
        "print(guad)"
      ],
      "metadata": {
        "colab": {
          "base_uri": "https://localhost:8080/"
        },
        "id": "zH8p1yXw69sv",
        "outputId": "dcdee5f7-127f-43fa-e30d-04af35789bcf"
      },
      "execution_count": null,
      "outputs": [
        {
          "output_type": "stream",
          "name": "stdout",
          "text": [
            "['iron-man', 'hulk', 'thor']\n",
            "['Thor', 'iron-man', 'hulk', 'thor']\n",
            "['star', 'antman', 'hank']\n"
          ]
        }
      ]
    },
    {
      "cell_type": "code",
      "source": [
        "#tupples\n",
        "#tup=(\"Ant-man\",\"captain\")\n",
        "#avg1.extend(tup)\n",
        "print(avg1)"
      ],
      "metadata": {
        "colab": {
          "base_uri": "https://localhost:8080/"
        },
        "id": "VaoZxVXa8iQo",
        "outputId": "5d9846c8-b1e7-49e2-8676-f8b8f60c0879"
      },
      "execution_count": null,
      "outputs": [
        {
          "output_type": "stream",
          "name": "stdout",
          "text": [
            "['Thor', 'hulk', 'thor', 'star', 'antman', 'hank', 'A', 'n', 't', '-', 'm', 'a', 'n', 'A', 'n', 't', '-', 'm', 'a', 'n', 'Ant-man', 'captain']\n"
          ]
        }
      ]
    },
    {
      "cell_type": "code",
      "source": [
        "fruits=[\"apple\",\"banana\",\"mango\"]\n",
        "fruits.insert(0,\"cherry\")\n",
        "print(fruits[0])"
      ],
      "metadata": {
        "colab": {
          "base_uri": "https://localhost:8080/"
        },
        "id": "UjzlT-HW9Afe",
        "outputId": "ada1d6df-015f-41ae-e64f-d0c835d8f5dc"
      },
      "execution_count": null,
      "outputs": [
        {
          "output_type": "stream",
          "name": "stdout",
          "text": [
            "cherry\n"
          ]
        }
      ]
    },
    {
      "cell_type": "code",
      "source": [
        "avg1.pop(1)\n",
        "print(avg1)"
      ],
      "metadata": {
        "colab": {
          "base_uri": "https://localhost:8080/"
        },
        "id": "VYv8OMRJAqL6",
        "outputId": "079e7b8b-7e52-4a43-fb39-716bad26a119"
      },
      "execution_count": null,
      "outputs": [
        {
          "output_type": "stream",
          "name": "stdout",
          "text": [
            "['Thor', 'hulk', 'thor', 'star', 'antman', 'hank', 'A', 'n', 't', '-', 'm', 'a', 'n', 'A', 'n', 't', '-', 'm', 'a', 'n', 'Ant-man', 'captain']\n"
          ]
        }
      ]
    },
    {
      "cell_type": "code",
      "source": [],
      "metadata": {
        "id": "42O0QPULAoPJ"
      },
      "execution_count": null,
      "outputs": []
    },
    {
      "cell_type": "markdown",
      "source": [
        "del() is fast than remove() ,del is acess index and delete"
      ],
      "metadata": {
        "id": "ywyKevdABthF"
      }
    },
    {
      "cell_type": "code",
      "source": [
        "list2=[\"thor\",\"hulk\"]\n",
        "#list2.remove([1:3])\n",
        "del list2[1:3]\n",
        "print(list2)\n",
        "list2=[\"thor\",\"hulk\"]\n",
        "del list2[1]\n",
        "print(list2)\n",
        "list2=[\"thor\",\"hulk\"]\n",
        "#del list2\n",
        "#print(list2)\n",
        "list2.clear() # clear list complete data but list make empty and store address\n",
        "print(list2)\n"
      ],
      "metadata": {
        "colab": {
          "base_uri": "https://localhost:8080/"
        },
        "id": "ayMriWrGCC8g",
        "outputId": "55215148-dde3-411f-87de-625493bfe6c9"
      },
      "execution_count": null,
      "outputs": [
        {
          "output_type": "stream",
          "name": "stdout",
          "text": [
            "['thor']\n",
            "['thor']\n",
            "[]\n"
          ]
        }
      ]
    },
    {
      "cell_type": "code",
      "source": [
        "list2.append(\"thor\")\n",
        "list2.append(\"hulk\")\n",
        "list2.append(\"iron-man\")\n",
        "for i in list2:\n",
        "  print(i)"
      ],
      "metadata": {
        "colab": {
          "base_uri": "https://localhost:8080/"
        },
        "id": "8-WBLBDzDlet",
        "outputId": "814107c4-a498-46bc-ee97-9fea237804b4"
      },
      "execution_count": null,
      "outputs": [
        {
          "output_type": "stream",
          "name": "stdout",
          "text": [
            "thor\n",
            "hulk\n",
            "iron-man\n"
          ]
        }
      ]
    },
    {
      "cell_type": "code",
      "source": [
        "for i in range(len(list2)):\n",
        "  print(list2[i])\n"
      ],
      "metadata": {
        "colab": {
          "base_uri": "https://localhost:8080/"
        },
        "id": "VxA7fOJ8FXN6",
        "outputId": "4cd589bf-61d0-4b41-afcb-fa6e23d61112"
      },
      "execution_count": null,
      "outputs": [
        {
          "output_type": "stream",
          "name": "stdout",
          "text": [
            "thor\n",
            "hulk\n",
            "iron-man\n"
          ]
        }
      ]
    },
    {
      "cell_type": "code",
      "source": [
        "i=0\n",
        "while i<len(list2):\n",
        "  print(list2)\n",
        "  i=i+1"
      ],
      "metadata": {
        "colab": {
          "base_uri": "https://localhost:8080/"
        },
        "id": "hYAnN4MyIdbR",
        "outputId": "f477b966-4f52-4334-eaf9-2fcb366d8c2b"
      },
      "execution_count": null,
      "outputs": [
        {
          "output_type": "stream",
          "name": "stdout",
          "text": [
            "['thor', 'hulk', 'iron-man']\n",
            "['thor', 'hulk', 'iron-man']\n",
            "['thor', 'hulk', 'iron-man']\n"
          ]
        }
      ]
    },
    {
      "cell_type": "code",
      "source": [
        "for x in list2:\n",
        "  print(x)"
      ],
      "metadata": {
        "colab": {
          "base_uri": "https://localhost:8080/"
        },
        "id": "TT9rDk80JBee",
        "outputId": "b70c8094-0a00-43e2-f3fc-bfd302c5aba6"
      },
      "execution_count": null,
      "outputs": [
        {
          "output_type": "stream",
          "name": "stdout",
          "text": [
            "thor\n",
            "hulk\n",
            "iron-man\n"
          ]
        }
      ]
    },
    {
      "cell_type": "markdown",
      "source": [
        "#LOOP\n"
      ],
      "metadata": {
        "id": "J68QNbW_bfXf"
      }
    },
    {
      "cell_type": "code",
      "source": [
        "hero=[\"Iron-man\",\"hulk\",\"captain America\"]\n",
        "for i in hero:\n",
        "  print(i)\n",
        "print(\"-----------------------------\")\n",
        "for i in range(len(hero)):\n",
        "  print(i,hero[i])"
      ],
      "metadata": {
        "colab": {
          "base_uri": "https://localhost:8080/"
        },
        "id": "i8TKZRJNbjM9",
        "outputId": "3639f739-f5d5-41fc-bdb8-a06087b2ec1a"
      },
      "execution_count": 2,
      "outputs": [
        {
          "output_type": "stream",
          "name": "stdout",
          "text": [
            "Iron-man\n",
            "hulk\n",
            "captainAmerica\n",
            "-----------------------------\n",
            "0 Iron-man\n",
            "1 hulk\n",
            "2 captainAmerica\n"
          ]
        }
      ]
    },
    {
      "cell_type": "code",
      "source": [
        "i=0\n",
        "while(i<len(hero)):\n",
        "  print(i,hero[i])\n",
        "  i=i+1"
      ],
      "metadata": {
        "colab": {
          "base_uri": "https://localhost:8080/"
        },
        "id": "_clHdDfGcfUv",
        "outputId": "130393a3-c71e-4642-ae08-d46bf6356751"
      },
      "execution_count": 4,
      "outputs": [
        {
          "output_type": "stream",
          "name": "stdout",
          "text": [
            "0 Iron-man\n",
            "1 hulk\n",
            "2 captainAmerica\n"
          ]
        }
      ]
    },
    {
      "cell_type": "code",
      "source": [
        "[print(i) for i in hero]"
      ],
      "metadata": {
        "colab": {
          "base_uri": "https://localhost:8080/"
        },
        "id": "V60Q0Nu0dF_T",
        "outputId": "2b64c224-d386-4498-ad3b-2f7d145ed4cd"
      },
      "execution_count": 5,
      "outputs": [
        {
          "output_type": "stream",
          "name": "stdout",
          "text": [
            "Iron-man\n",
            "hulk\n",
            "captainAmerica\n"
          ]
        },
        {
          "output_type": "execute_result",
          "data": {
            "text/plain": [
              "[None, None, None]"
            ]
          },
          "metadata": {},
          "execution_count": 5
        }
      ]
    },
    {
      "cell_type": "markdown",
      "source": [
        "Q1. you need out the filter out the name of avenger that contains sub string america."
      ],
      "metadata": {
        "id": "L9Ld_KiUdePW"
      }
    },
    {
      "cell_type": "code",
      "source": [
        "hero=[\"Iron-man\",\"hulk\",\"captain America\"]\n",
        "\n",
        "new_list =[i for i in hero if \"America\" in i]\n",
        "print(new_list)"
      ],
      "metadata": {
        "colab": {
          "base_uri": "https://localhost:8080/"
        },
        "id": "gTbQU0uBdwoF",
        "outputId": "b6f8549f-45fa-42b0-df85-111350f69a74"
      },
      "execution_count": 11,
      "outputs": [
        {
          "output_type": "stream",
          "name": "stdout",
          "text": [
            "['captain America']\n"
          ]
        }
      ]
    },
    {
      "cell_type": "markdown",
      "source": [
        "replace hulk with calm-guy"
      ],
      "metadata": {
        "id": "IIngWVn_ejB-"
      }
    },
    {
      "cell_type": "code",
      "source": [
        "for i in range(len(hero)):\n",
        "  if hero[i]==\"hulk\":\n",
        "    hero[i]=\"calm-guy\"\n",
        "print(hero)\n",
        "hero=[\"Iron-man\",\"hulk\",\"captain America\"]\n",
        "\n",
        "#[i for i in hero if \"hulk\" in i i.replace(\"hulk\",\"calm-guy\")]\n",
        "hero=[\"Iron-man\",\"hulk\",\"captain America\"]\n",
        "\n",
        "[x if x!=\"hulk\" else \"clam-guy\" for  x in hero]"
      ],
      "metadata": {
        "colab": {
          "base_uri": "https://localhost:8080/"
        },
        "id": "vj_6uCjQeoAF",
        "outputId": "d666a2db-0f8c-46f2-c71b-b1c3656f210f"
      },
      "execution_count": 20,
      "outputs": [
        {
          "output_type": "stream",
          "name": "stdout",
          "text": [
            "['Iron-man', 'calm-guy', 'captain America']\n"
          ]
        },
        {
          "output_type": "execute_result",
          "data": {
            "text/plain": [
              "['Iron-man', 'clam-guy', 'captain America']"
            ]
          },
          "metadata": {},
          "execution_count": 20
        }
      ]
    },
    {
      "cell_type": "markdown",
      "source": [
        "make the character in list upercase."
      ],
      "metadata": {
        "id": "sGSlxhPQguUf"
      }
    },
    {
      "cell_type": "code",
      "source": [
        "hero=[\"Iron-man\",\"hulk\",\"captain America\"]\n",
        "hero =[i.upper() for i in hero]\n",
        "print(hero)"
      ],
      "metadata": {
        "colab": {
          "base_uri": "https://localhost:8080/"
        },
        "id": "lAMlaTc7exWq",
        "outputId": "1692f505-bcae-44e2-ebe2-50006d0498d4"
      },
      "execution_count": 21,
      "outputs": [
        {
          "output_type": "stream",
          "name": "stdout",
          "text": [
            "['IRON-MAN', 'HULK', 'CAPTAIN AMERICA']\n"
          ]
        }
      ]
    },
    {
      "cell_type": "code",
      "source": [
        "[print(i,) for i in range(len(hero))]\n",
        "print(\"---\")\n",
        "newlist= [i for i in range(len(hero))]\n",
        "print(newlist)"
      ],
      "metadata": {
        "colab": {
          "base_uri": "https://localhost:8080/"
        },
        "id": "UFzbvAPOhgvb",
        "outputId": "7b5ae3d5-dd71-48b1-cc01-3ddfec048508"
      },
      "execution_count": 25,
      "outputs": [
        {
          "output_type": "stream",
          "name": "stdout",
          "text": [
            "0\n",
            "1\n",
            "2\n",
            "---\n",
            "[0, 1, 2]\n"
          ]
        }
      ]
    },
    {
      "cell_type": "code",
      "source": [
        "#prime number find\n",
        "i=0\n",
        "for i in range(100):\n",
        "   if i%i+1!=0:\n",
        "    print(i)"
      ],
      "metadata": {
        "colab": {
          "base_uri": "https://localhost:8080/",
          "height": 201
        },
        "id": "gBsYAArgiIxO",
        "outputId": "ee501178-a374-48c8-c1d7-3f932262161d"
      },
      "execution_count": 26,
      "outputs": [
        {
          "output_type": "error",
          "ename": "ZeroDivisionError",
          "evalue": "integer modulo by zero",
          "traceback": [
            "\u001b[0;31m---------------------------------------------------------------------------\u001b[0m",
            "\u001b[0;31mZeroDivisionError\u001b[0m                         Traceback (most recent call last)",
            "\u001b[0;32m/tmp/ipython-input-1273820134.py\u001b[0m in \u001b[0;36m<cell line: 0>\u001b[0;34m()\u001b[0m\n\u001b[1;32m      2\u001b[0m \u001b[0mi\u001b[0m\u001b[0;34m=\u001b[0m\u001b[0;36m0\u001b[0m\u001b[0;34m\u001b[0m\u001b[0;34m\u001b[0m\u001b[0m\n\u001b[1;32m      3\u001b[0m \u001b[0;32mfor\u001b[0m \u001b[0mi\u001b[0m \u001b[0;32min\u001b[0m \u001b[0mrange\u001b[0m\u001b[0;34m(\u001b[0m\u001b[0;36m100\u001b[0m\u001b[0;34m)\u001b[0m\u001b[0;34m:\u001b[0m\u001b[0;34m\u001b[0m\u001b[0;34m\u001b[0m\u001b[0m\n\u001b[0;32m----> 4\u001b[0;31m    \u001b[0;32mif\u001b[0m \u001b[0mi\u001b[0m\u001b[0;34m%\u001b[0m\u001b[0mi\u001b[0m\u001b[0;34m+\u001b[0m\u001b[0;36m1\u001b[0m\u001b[0;34m!=\u001b[0m\u001b[0;36m0\u001b[0m\u001b[0;34m:\u001b[0m\u001b[0;34m\u001b[0m\u001b[0;34m\u001b[0m\u001b[0m\n\u001b[0m\u001b[1;32m      5\u001b[0m     \u001b[0mprint\u001b[0m\u001b[0;34m(\u001b[0m\u001b[0mi\u001b[0m\u001b[0;34m)\u001b[0m\u001b[0;34m\u001b[0m\u001b[0;34m\u001b[0m\u001b[0m\n",
            "\u001b[0;31mZeroDivisionError\u001b[0m: integer modulo by zero"
          ]
        }
      ]
    },
    {
      "cell_type": "code",
      "source": [
        "prime_numbers = [i for i in range(2, 100) if all(i % j != 0 for j in range(2, int(i**0.5) + 1))]\n",
        "print(prime_numbers)"
      ],
      "metadata": {
        "id": "O5lPJsKGkEmy"
      },
      "execution_count": null,
      "outputs": []
    },
    {
      "cell_type": "code",
      "source": [
        "[2**i for i in  range(20)]"
      ],
      "metadata": {
        "colab": {
          "base_uri": "https://localhost:8080/"
        },
        "id": "dJjpnw_qlVYk",
        "outputId": "4952c267-399d-415b-df83-8d1630647c31"
      },
      "execution_count": 27,
      "outputs": [
        {
          "output_type": "execute_result",
          "data": {
            "text/plain": [
              "[1,\n",
              " 2,\n",
              " 4,\n",
              " 8,\n",
              " 16,\n",
              " 32,\n",
              " 64,\n",
              " 128,\n",
              " 256,\n",
              " 512,\n",
              " 1024,\n",
              " 2048,\n",
              " 4096,\n",
              " 8192,\n",
              " 16384,\n",
              " 32768,\n",
              " 65536,\n",
              " 131072,\n",
              " 262144,\n",
              " 524288]"
            ]
          },
          "metadata": {},
          "execution_count": 27
        }
      ]
    }
  ]
}